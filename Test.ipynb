{
 "cells": [
  {
   "cell_type": "markdown",
   "metadata": {},
   "source": [
    "# Coding the problem"
   ]
  },
  {
   "cell_type": "code",
   "execution_count": 1,
   "metadata": {},
   "outputs": [],
   "source": [
    "import math as mt\n",
    "import random as rnd\n",
    "import statistics as stats\n",
    "from deap import base, creator, tools\n",
    "import matplotlib.pyplot as plt"
   ]
  },
  {
   "cell_type": "markdown",
   "metadata": {},
   "source": [
    "Landscape definition"
   ]
  },
  {
   "cell_type": "code",
   "execution_count": 2,
   "metadata": {},
   "outputs": [],
   "source": [
    "#Problem domain\n",
    "x_min = -15\n",
    "x_max = 15\n",
    "y_min = -15\n",
    "y_max = 15\n",
    "\n",
    "#Known minimum\n",
    "x_point = -1\n",
    "y_point = -1\n",
    "domain = (x_min, x_max, y_min, y_max)\n",
    "point = (x_point, y_point)\n",
    "\n",
    "#Problem definition\n",
    "def f(x, y):\n",
    "    D = 2\n",
    "    alpha = 1/8\n",
    "    \n",
    "    x=(x-5)/6\n",
    "    y=(y-5)/6\n",
    "    \n",
    "    a = mt.fabs(x ** 2 + y ** 2 - D) ** (alpha * D)\n",
    "    b = ( 0.5 * (x ** 2 + y ** 2) + (x + y) ) / D\n",
    "    \n",
    "    return (a + b + 0.5),\n",
    "\n",
    "def evaluate(individual):\n",
    "    x = individual[0]\n",
    "    y = individual[1]\n",
    "    return f(x,y)"
   ]
  },
  {
   "cell_type": "markdown",
   "metadata": {},
   "source": [
    "# Defining the elements"
   ]
  },
  {
   "cell_type": "code",
   "execution_count": 3,
   "metadata": {},
   "outputs": [],
   "source": [
    "# Algorithm parameters\n",
    "\n",
    "# Genes\n",
    "gen_size = 2\n",
    "# Population Size\n",
    "pop_size = 20\n",
    "# Progeny size\n",
    "b_ratio = 3\n",
    "par_size = b_ratio * pop_size\n",
    "\n",
    "# Progeny parameters\n",
    "## Crossover probability per gene\n",
    "cx_pb = .5\n",
    "## Mutation probability per gene\n",
    "mut_pb = .5\n",
    "## Mutation strength\n",
    "sigma = 2.5\n",
    "\n",
    "\n",
    "# Selection by tournament\n",
    "# Tournament size parent selection\n",
    "k_par=2\n",
    "# Tournament size survivor selection\n",
    "k_sur=6\n",
    "\n",
    "# Maximum generation number\n",
    "gen_end = 5000\n"
   ]
  },
  {
   "cell_type": "code",
   "execution_count": 4,
   "metadata": {},
   "outputs": [],
   "source": [
    "creator.create(\"FitnessMin\", base.Fitness, weights=(-1.0,))\n",
    "creator.create(\"Individual\", list, fitness=creator.FitnessMin)"
   ]
  },
  {
   "cell_type": "code",
   "execution_count": 5,
   "metadata": {},
   "outputs": [],
   "source": [
    "toolbox = base.Toolbox()"
   ]
  },
  {
   "cell_type": "code",
   "execution_count": 6,
   "metadata": {},
   "outputs": [],
   "source": [
    "toolbox.register(\"attr_float\", rnd.uniform, -15, 15)\n",
    "toolbox.register(\"individual\", tools.initRepeat, creator.Individual, toolbox.attr_float, n=gen_size)\n",
    "toolbox.register(\"population\", tools.initRepeat, list, toolbox.individual)"
   ]
  },
  {
   "cell_type": "code",
   "execution_count": 7,
   "metadata": {},
   "outputs": [],
   "source": [
    "toolbox.register(\"evaluate\", evaluate)\n",
    "\n",
    "toolbox.register(\"mate\", tools.cxUniform, indpb=cx_pb)\n",
    "toolbox.register(\"mutate\", tools.mutGaussian, mu=0, sigma=sigma, indpb=mut_pb)\n",
    "\n",
    "toolbox.register(\"par_select\", tools.selTournament, tournsize=k_p)\n",
    "toolbox.register(\"sur_select\", tools.selTournament, tournsize=k_s)"
   ]
  },
  {
   "cell_type": "code",
   "execution_count": 8,
   "metadata": {},
   "outputs": [],
   "source": [
    "stat = tools.Statistics(key=lambda ind: ind.fitness.values[0])\n",
    "\n",
    "stat.register('med', stats.median)\n",
    "stat.register('avg', stats.mean)\n",
    "stat.register('std', stats.stdev)\n",
    "stat.register('best', min)\n",
    "stat.register('worst', max)"
   ]
  },
  {
   "cell_type": "code",
   "execution_count": 9,
   "metadata": {},
   "outputs": [],
   "source": [
    "pop = toolbox.population(n=pop_size)"
   ]
  },
  {
   "cell_type": "code",
   "execution_count": 10,
   "metadata": {},
   "outputs": [],
   "source": [
    "fitnesses = toolbox.map(toolbox.evaluate, pop)\n",
    "for ind, fit in zip(pop, fitnesses):\n",
    "    ind.fitness.values = fit"
   ]
  },
  {
   "cell_type": "code",
   "execution_count": null,
   "metadata": {},
   "outputs": [],
   "source": []
  },
  {
   "cell_type": "code",
   "execution_count": 11,
   "metadata": {},
   "outputs": [],
   "source": [
    "logbook = tools.Logbook()\n",
    "record = stat.compile(pop)\n",
    "logbook.record(gen=0, **record)"
   ]
  },
  {
   "cell_type": "code",
   "execution_count": 12,
   "metadata": {},
   "outputs": [
    {
     "name": "stdout",
     "output_type": "stream",
     "text": [
      "Wall time: 10.3 s\n"
     ]
    }
   ],
   "source": [
    "%%time\n",
    "for g in range(gen_end):\n",
    "    # Select Parents and clone them as base for offsprings\n",
    "    parents = toolbox.par_select(pop, par_size)\n",
    "    offspring = [toolbox.clone(ind) for ind in pop]\n",
    "    \n",
    "    # Aplly crossover    \n",
    "    for child1, child2 in zip(offspring[::2], offspring[1::2]):\n",
    "        toolbox.mate(child1, child2)\n",
    "        del child1.fitness.values, child2.fitness.values\n",
    "    \n",
    "    # Apply mutation\n",
    "    for mutant in offspring:\n",
    "        toolbox.mutate(mutant)\n",
    "        del mutant.fitness.values\n",
    "    \n",
    "    fitnesses = toolbox.map(toolbox.evaluate, offspring)\n",
    "    for ind, fit in zip(offspring, fitnesses):\n",
    "        ind.fitness.values = fit\n",
    "    \n",
    "    pop = toolbox.sur_select((pop+offspring), pop_size)\n",
    "    \n",
    "    record = stat.compile(pop)\n",
    "    logbook.record(gen=g+1, **record)"
   ]
  },
  {
   "cell_type": "code",
   "execution_count": 13,
   "metadata": {},
   "outputs": [],
   "source": [
    "gen = logbook.select('gen')\n",
    "fit_best = logbook.select('best')\n",
    "fit_med = logbook.select('med')"
   ]
  },
  {
   "cell_type": "code",
   "execution_count": 15,
   "metadata": {},
   "outputs": [
    {
     "data": {
      "text/plain": [
       "<matplotlib.legend.Legend at 0x1af5035e2e8>"
      ]
     },
     "execution_count": 15,
     "metadata": {},
     "output_type": "execute_result"
    },
    {
     "data": {
      "image/png": "[encoded data removed]",
      "text/plain": [
       "<Figure size 432x288 with 1 Axes>"
      ]
     },
     "metadata": {
      "needs_background": "light"
     },
     "output_type": "display_data"
    }
   ],
   "source": [
    "fig, ax1 = plt.subplots()\n",
    "line1 = ax1.plot(gen, fit_best, \"b-\", label=\"Best Fitness\")\n",
    "ax1.set_xlabel(\"Generation\")\n",
    "ax1.set_ylabel(\"Fitness\", color=\"b\")\n",
    "for tl in ax1.get_yticklabels():\n",
    "    tl.set_color(\"b\")\n",
    "    \n",
    "ax1.legend()"
   ]
  },
  {
   "cell_type": "code",
   "execution_count": 16,
   "metadata": {},
   "outputs": [
    {
     "data": {
      "text/plain": [
       "deap.tools.support.Logbook"
      ]
     },
     "execution_count": 16,
     "metadata": {},
     "output_type": "execute_result"
    }
   ],
   "source": [
    "type(logbook)"
   ]
  },
  {
   "cell_type": "code",
   "execution_count": 19,
   "metadata": {},
   "outputs": [
    {
     "data": {
      "text/plain": [
       "dict"
      ]
     },
     "execution_count": 19,
     "metadata": {},
     "output_type": "execute_result"
    }
   ],
   "source": [
    "type(logbook[0])"
   ]
  },
  {
   "cell_type": "code",
   "execution_count": 20,
   "metadata": {},
   "outputs": [
    {
     "data": {
      "text/plain": [
       "5001"
      ]
     },
     "execution_count": 20,
     "metadata": {},
     "output_type": "execute_result"
    }
   ],
   "source": [
    "len(logbook)"
   ]
  },
  {
   "cell_type": "code",
   "execution_count": null,
   "metadata": {},
   "outputs": [],
   "source": []
  }
 ],
 "metadata": {
  "kernelspec": {
   "display_name": "Python [conda env:thesis] *",
   "language": "python",
   "name": "conda-env-thesis-py"
  },
  "language_info": {
   "codemirror_mode": {
    "name": "ipython",
    "version": 3
   },
   "file_extension": ".py",
   "mimetype": "text/x-python",
   "name": "python",
   "nbconvert_exporter": "python",
   "pygments_lexer": "ipython3",
   "version": "3.6.7"
  }
 },
 "nbformat": 4,
 "nbformat_minor": 2
}
